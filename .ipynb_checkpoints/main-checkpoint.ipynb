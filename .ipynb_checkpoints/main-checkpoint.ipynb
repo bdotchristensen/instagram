{
 "cells": [
  {
   "cell_type": "code",
   "execution_count": 93,
   "id": "ebf5a46a-fb4c-40a9-a783-ab2ed6e50ebd",
   "metadata": {},
   "outputs": [],
   "source": [
    "before = open('./data/insta-10-02-24.html', 'r', encoding='utf-8')\n",
    "before = before.read() \n",
    "\n",
    "after = open('./data/insta-10-02-24.html', 'r', encoding='utf-8')\n",
    "after = after.read() "
   ]
  },
  {
   "cell_type": "code",
   "execution_count": 94,
   "id": "dffb0804-5571-4819-9711-d305b2dc22de",
   "metadata": {},
   "outputs": [],
   "source": [
    "username_start_flag = '<span class=\"_ap3a _aaco _aacw _aacx _aad7 _aade\" dir=\"auto\">'\n",
    "username_end_flag = '</span>'\n",
    "\n",
    "name_start_flag = '<span class=\"x1lliihq x193iq5w x6ikm8r x10wlt62 xlyipyv xuxw1ft\">'\n",
    "name_end_flag = '</span>'"
   ]
  },
  {
   "cell_type": "code",
   "execution_count": 95,
   "id": "10fe771b-2372-4bc9-94b0-4fd0b01f994e",
   "metadata": {},
   "outputs": [],
   "source": [
    "def get_names_and_usernames(before):\n",
    "\n",
    "    before_usernames = []\n",
    "    before_names = []\n",
    "\n",
    "    while 1 == 1:\n",
    "        try:\n",
    "            # username block\n",
    "            i = before.index(username_start_flag)\n",
    "            before = before[i + len(username_start_flag):]\n",
    "            \n",
    "            j = before.index(username_end_flag)\n",
    "            username = before[0:j]\n",
    "            \n",
    "            before = before[j + len(username_end_flag):]\n",
    "        \n",
    "            before_usernames.append(username)\n",
    "    \n",
    "            # name block\n",
    "            i = before.index(name_start_flag)\n",
    "            before = before[i + len(name_start_flag):]\n",
    "            \n",
    "            j = before.index(name_end_flag)\n",
    "            name = before[0:j]\n",
    "            \n",
    "            before = before[j + len(name_end_flag):]\n",
    "        \n",
    "            before_names.append(name)\n",
    "        \n",
    "        except:\n",
    "            break\n",
    "\n",
    "    return before_usernames, before_names"
   ]
  },
  {
   "cell_type": "code",
   "execution_count": 96,
   "id": "77ea660a-ceec-4b95-84f9-3a0aa71ed8cf",
   "metadata": {},
   "outputs": [],
   "source": [
    "bu, bn = get_names_and_usernames(before)\n",
    "au, an = get_names_and_usernames(after)"
   ]
  },
  {
   "cell_type": "code",
   "execution_count": 97,
   "id": "31fb0cf1-50bb-4cae-8861-335d45a0625d",
   "metadata": {},
   "outputs": [
    {
     "name": "stdout",
     "output_type": "stream",
     "text": [
      "You went from 183 followers to 183\n",
      "\n",
      "New followers:\n",
      "\n",
      "People who unfollowed:\n"
     ]
    }
   ],
   "source": [
    "print('You went from', len(bu), 'followers to', len(au))\n",
    "print()\n",
    "print('New followers:')\n",
    "\n",
    "new_people = filter(lambda x: x not in zip(bu, bn), zip(au, an))\n",
    "for x, y in list(new_people):\n",
    "    print('@' + x, '|', y)\n",
    "\n",
    "print()\n",
    "print('People who unfollowed:')\n",
    "\n",
    "unfollowed_people = filter(lambda x: x not in zip(au, an), zip(bu, bn))\n",
    "for x, y in list(unfollowed_people):\n",
    "    print('@' + x, '|', y)"
   ]
  },
  {
   "cell_type": "code",
   "execution_count": null,
   "id": "0c3b18ad-0077-4bed-9fab-7aa83c75b659",
   "metadata": {},
   "outputs": [],
   "source": []
  }
 ],
 "metadata": {
  "kernelspec": {
   "display_name": "Python 3 (ipykernel)",
   "language": "python",
   "name": "python3"
  },
  "language_info": {
   "codemirror_mode": {
    "name": "ipython",
    "version": 3
   },
   "file_extension": ".py",
   "mimetype": "text/x-python",
   "name": "python",
   "nbconvert_exporter": "python",
   "pygments_lexer": "ipython3",
   "version": "3.8.18"
  }
 },
 "nbformat": 4,
 "nbformat_minor": 5
}
